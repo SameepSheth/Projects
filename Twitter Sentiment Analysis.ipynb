{
 "cells": [
  {
   "cell_type": "code",
   "execution_count": 1,
   "metadata": {},
   "outputs": [],
   "source": [
    "import tensorflow as tf"
   ]
  },
  {
   "cell_type": "code",
   "execution_count": 2,
   "metadata": {},
   "outputs": [],
   "source": [
    "import tweepy "
   ]
  },
  {
   "cell_type": "code",
   "execution_count": 3,
   "metadata": {},
   "outputs": [],
   "source": [
    "import scipy"
   ]
  },
  {
   "cell_type": "code",
   "execution_count": 4,
   "metadata": {},
   "outputs": [],
   "source": [
    "import pandas"
   ]
  },
  {
   "cell_type": "code",
   "execution_count": 5,
   "metadata": {},
   "outputs": [
    {
     "ename": "ModuleNotFoundError",
     "evalue": "No module named 'skleaen'",
     "output_type": "error",
     "traceback": [
      "\u001b[1;31m---------------------------------------------------------------------------\u001b[0m",
      "\u001b[1;31mModuleNotFoundError\u001b[0m                       Traceback (most recent call last)",
      "\u001b[1;32m<ipython-input-5-9039b1677a2b>\u001b[0m in \u001b[0;36m<module>\u001b[1;34m\u001b[0m\n\u001b[1;32m----> 1\u001b[1;33m \u001b[1;32mimport\u001b[0m \u001b[0mskleaen\u001b[0m\u001b[1;33m\u001b[0m\u001b[1;33m\u001b[0m\u001b[0m\n\u001b[0m",
      "\u001b[1;31mModuleNotFoundError\u001b[0m: No module named 'skleaen'"
     ]
    }
   ],
   "source": [
    "import skleaen"
   ]
  },
  {
   "cell_type": "code",
   "execution_count": 6,
   "metadata": {},
   "outputs": [],
   "source": [
    "import sklearn"
   ]
  },
  {
   "cell_type": "code",
   "execution_count": 38,
   "metadata": {},
   "outputs": [
    {
     "name": "stdout",
     "output_type": "stream",
     "text": [
      "Positive tweets percentage: 37.5 %\n",
      "Negative tweets percentage: 14.772727272727273 %\n",
      "Neutral tweets percentage: 47.72727272727273 %\n",
      "\n",
      " \tPositive tweets:\n",
      "RT @gautamkapoor54: Bringing unparalled sports coverage to you, Tentaran reported straight from the Feroz Shah Kotla stadium for the series…\n",
      "RT @rsprasad: Rahul Gandhi Ji! As per your own utterances, you seem to enjoy very good relationship with Chinese establishment. Then why di…\n",
      "RT @ShefVaidya: Because Lord Nehru in his infinite wisdom and quest for the Nobel peace prize gifted the UNSC seat offered to India to Chin…\n",
      "RT @SadhguruJV: Congratulations #AzimPremji for your vision and commitment to a more inclusive society. Wonderful to see India's most succe…\n",
      "RT @TajinderBagga: मोदी से नफरत करते करते देश से कब नफरत हो गई पता ही नही चला । \"Slap to India Face\" showin the Real Face of Congress Journ…\n",
      "RT @TrueIndology: In the simple dignity of Sabarmati, \n",
      "\n",
      "1)Nehru rejected Gandhi's multiple demands to step down as PM for good.\n",
      "\n",
      "2)Nehru pr…\n",
      "@VORdotcom Haha... 🙏 Dont make miscalculations.. This time India might lost something else too...\n",
      "RT @arunjaitley: India has been the fastest growing major economy in the world for the last 5 years in a row. This has been achieved withou…\n",
      "RT @AdityaRajKaul: Proud moment. My dear friend Major Aditya gets Shaurya Chakra from the President of India for remarkably leading Ops in…\n",
      "RT @arunjaitley: The salient point that distinguishes Modi govt. has been its motivation &amp; leadership. It is precisely for this reason that…\n",
      "\n",
      " \t Negative tweets:\n",
      "RT @anshumanreuben: Anyone preparing for Civil Services Examinations, please ignore the knowledge a BJP Leader tries to impart in you! \n",
      "\n",
      "Ne…\n",
      "@ashoswai \"China doesn't need India\"- You need to check your facts. The data which you are relying must be outdated… https://t.co/KGJkpYCxDG\n",
      "RT @RahulGandhi: Weak Modi is scared of Xi. Not a word comes out of his mouth when China acts against India. \n",
      "\n",
      "NoMo’s China Diplomacy: \n",
      "\n",
      "1.…\n",
      "RT @ggiittiikkaa: Moron! India under Modi is FINALLY standing up to China, whether Doklam or Exposing China as a terrorism sponsor in UN.…\n",
      "RT @Ketmategaonkar: @tajjackson3 I saw the documentary and it’s disgusting! I don’t believe a word. Love and support from India. Friends, h…\n",
      "RT @madhukishwar: Since China playing dirty &amp; supporting Pak terror groups in UNSC, @narendramodi govt should put prohibitive duties on Chi…\n",
      "RT @AICCMedia: Once again the BJP Lie Factory has started the hate campaign against the First PM of Independent India, Pt Jawahar Lal Nehru…\n",
      "RT @MajorPoonia: Masood Azhar is a terrorists, lives in Pak,It’s not any secret.\n",
      "Do India need someone’s permission to kill him ?? NOOO\n",
      "Wha…\n",
      "RT @MinhazMerchant: By blocking #MasoodAzhar’s designation as a global terrorist at #UNSC, China is now firmly established as complicit in…\n",
      "Masood Azhar is a terrorists, lives in Pak,It’s not any secret.\n",
      "Do India need someone’s permission to kill him ?? N… https://t.co/ZcxpgsvqWf\n"
     ]
    }
   ],
   "source": [
    "import re \n",
    "import tweepy \n",
    "from tweepy import OAuthHandler \n",
    "from textblob import TextBlob \n",
    "  \n",
    "class TwitterClient(object): \n",
    "    ''' \n",
    "    Generic Twitter Class for sentiment analysis. \n",
    "    '''\n",
    "    def __init__(self): \n",
    "        ''' \n",
    "        Class constructor or initialization method. \n",
    "        '''\n",
    "        # keys and tokens from the Twitter Dev Console \n",
    "        consumer_key = 'ZfbnZd6ii1tp2SF3E76QHOG5s'\n",
    "        consumer_secret = 'U1kI8WK9GRvFjkJbTuQXeHG5L5Gq9OsTPiKRnkxVfFT1F91DwR'\n",
    "        access_token = '728282037761785856-xnGAlVhU3qWCDj0Nvldm25Szc08sxPj'\n",
    "        access_token_secret = 'MlAMQrZ3nfto7UWygkzKnKIVMfi0j9onPjLMQj0s5bEg4'\n",
    "  \n",
    "        # attempt authentication \n",
    "        try: \n",
    "            # create OAuthHandler object \n",
    "            self.auth = OAuthHandler(consumer_key, consumer_secret) \n",
    "            # set access token and secret \n",
    "            self.auth.set_access_token(access_token, access_token_secret) \n",
    "            # create tweepy API object to fetch tweets \n",
    "            self.api = tweepy.API(self.auth) \n",
    "        except: \n",
    "            print(\"Error: Authentication Failed\") \n",
    "  \n",
    "    def clean_tweet(self, tweet): \n",
    "        ''' \n",
    "        Utility function to clean tweet text by removing links, special characters \n",
    "        using simple regex statements. \n",
    "        '''\n",
    "        return ' '.join(re.sub(\"(@[A-Za-z0-9]+)|([^0-9A-Za-z \\t])|(\\w+:\\/\\/\\S+)\", \" \", tweet).split()) \n",
    "  \n",
    "    def get_tweet_sentiment(self, tweet): \n",
    "        ''' \n",
    "        Utility function to classify sentiment of passed tweet \n",
    "        using textblob's sentiment method \n",
    "        '''\n",
    "        # create TextBlob object of passed tweet text \n",
    "        analysis = TextBlob(self.clean_tweet(tweet)) \n",
    "        # set sentiment \n",
    "        if analysis.sentiment.polarity > 0: \n",
    "            return 'positive'\n",
    "        elif analysis.sentiment.polarity == 0: \n",
    "            return 'neutral'\n",
    "        else: \n",
    "            return 'negative'\n",
    "  \n",
    "    def get_tweets(self, query, count = 10): \n",
    "        ''' \n",
    "        Main function to fetch tweets and parse them. \n",
    "        '''\n",
    "        # empty list to store parsed tweets \n",
    "        tweets = [] \n",
    "  \n",
    "        try: \n",
    "            # call twitter api to fetch tweets \n",
    "            fetched_tweets = self.api.search(q = query, count = count) \n",
    "  \n",
    "            # parsing tweets one by one \n",
    "            for tweet in fetched_tweets: \n",
    "                # empty dictionary to store required params of a tweet \n",
    "                parsed_tweet = {} \n",
    "  \n",
    "                # saving text of tweet \n",
    "                parsed_tweet['text'] = tweet.text \n",
    "                # saving sentiment of tweet \n",
    "                parsed_tweet['sentiment'] = self.get_tweet_sentiment(tweet.text) \n",
    "  \n",
    "                # appending parsed tweet to tweets list \n",
    "                if tweet.retweet_count > 0: \n",
    "                    # if tweet has retweets, ensure that it is appended only once \n",
    "                    if parsed_tweet not in tweets: \n",
    "                        tweets.append(parsed_tweet) \n",
    "                else: \n",
    "                    tweets.append(parsed_tweet) \n",
    "  \n",
    "            # return parsed tweets \n",
    "            return tweets \n",
    "  \n",
    "        except tweepy.TweepError as e: \n",
    "            # print error (if any) \n",
    "            print(\"Error : \" + str(e)) \n",
    "  \n",
    "def main(): \n",
    "    # creating object of TwitterClient Class \n",
    "    api = TwitterClient() \n",
    "    # calling function to get tweets \n",
    "    \n",
    "    tweets = api.get_tweets(query = 'Manchester United', count = 500)\n",
    "    tweets = api.get_tweets(query = 'UCL', count = 500)\n",
    "  \n",
    "    # picking positive tweets from tweets \n",
    "    ptweets = [tweet for tweet in tweets if tweet['sentiment'] == 'positive'] \n",
    "    # percentage of positive tweets \n",
    "    print(\"Positive tweets percentage: {} %\".format(100*len(ptweets)/len(tweets))) \n",
    "    # picking negative tweets from tweets \n",
    "    ntweets = [tweet for tweet in tweets if tweet['sentiment'] == 'negative'] \n",
    "    # percentage of negative tweets \n",
    "    print(\"Negative tweets percentage: {} %\".format(100*len(ntweets)/len(tweets))) \n",
    "    # percentage of neutral tweets \n",
    "    print(\"Neutral tweets percentage: {} %\".format(100*(1-(len(ptweets)/len(tweets)+len(ntweets)/len(tweets)))))\n",
    "  \n",
    "    # printing first 5 positive tweets \n",
    "    print(\"\\n \\tPositive tweets:\") \n",
    "    for tweet in ptweets[:10]: \n",
    "        print(tweet['text']) \n",
    "  \n",
    "    # printing first 5 negative tweets \n",
    "    print(\"\\n \\t Negative tweets:\") \n",
    "    for tweet in ntweets[:10]: \n",
    "        print(tweet['text']) \n",
    "  \n",
    "if __name__ == \"__main__\": \n",
    "    # calling main function \n",
    "    main()"
   ]
  },
  {
   "cell_type": "code",
   "execution_count": null,
   "metadata": {},
   "outputs": [],
   "source": []
  },
  {
   "cell_type": "code",
   "execution_count": null,
   "metadata": {},
   "outputs": [],
   "source": []
  }
 ],
 "metadata": {
  "kernelspec": {
   "display_name": "Python 3",
   "language": "python",
   "name": "python3"
  },
  "language_info": {
   "codemirror_mode": {
    "name": "ipython",
    "version": 3
   },
   "file_extension": ".py",
   "mimetype": "text/x-python",
   "name": "python",
   "nbconvert_exporter": "python",
   "pygments_lexer": "ipython3",
   "version": "3.6.8"
  }
 },
 "nbformat": 4,
 "nbformat_minor": 2
}
